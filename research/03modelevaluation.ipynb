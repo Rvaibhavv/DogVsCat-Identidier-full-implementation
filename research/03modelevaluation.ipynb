{
 "cells": [
  {
   "cell_type": "code",
   "execution_count": 1,
   "metadata": {},
   "outputs": [],
   "source": [
    "import os\n",
    "%pwd\n",
    "os.chdir(\"../\")"
   ]
  },
  {
   "cell_type": "code",
   "execution_count": 2,
   "metadata": {},
   "outputs": [
    {
     "data": {
      "text/plain": [
       "'c:\\\\Users\\\\rvaib\\\\OneDrive\\\\Desktop\\\\DogVsCat-Identidier-full-implementation'"
      ]
     },
     "execution_count": 2,
     "metadata": {},
     "output_type": "execute_result"
    }
   ],
   "source": [
    "%pwd"
   ]
  },
  {
   "cell_type": "code",
   "execution_count": 3,
   "metadata": {},
   "outputs": [],
   "source": [
    "# MLFLOW_TRACKING_URI=https://dagshub.com/Rvaibhavv/DogVsCat-Identidier-full-implementation.mlflow \\\n",
    "# MLFLOW_TRACKING_USERNAME=Rvaibhavv \\\n",
    "# MLFLOW_TRACKING_PASSWORD=a37ad20e3c8a402cd86cae1238ec2ef1bed9ba0d \\\n",
    "\n",
    "# MLFLOW_TRACKING_URI=https://dagshub.com/Rvaibhavv/DogVsCat-Identidier-full-implementation.mlflow \\\n",
    "# MLFLOW_TRACKING_USERNAME=Rvaibhavv \\\n",
    "# MLFLOW_TRACKING_PASSWORD=a37ad20e3c8a402cd86cae1238ec2ef1bed9ba0d \\\n",
    "# python script.py\n",
    "# python script.py"
   ]
  },
  {
   "cell_type": "code",
   "execution_count": 4,
   "metadata": {},
   "outputs": [],
   "source": [
    "os.environ[\"MLFLOW_TRACKING_URI\"]=\"https://dagshub.com/Rvaibhavv/DogVsCat-Identidier-full-implementation.mlflow\"\n",
    "os.environ[\"MLFLOW_TRACKING_USERNAME\"]=\"Rvaibhavv\"\n",
    "os.environ[\"MLFLOW_TRACKING_PASSWORD\"]=\"a37ad20e3c8a402cd86cae1238ec2ef1bed9ba0d\""
   ]
  },
  {
   "cell_type": "code",
   "execution_count": 5,
   "metadata": {},
   "outputs": [],
   "source": [
    "import tensorflow as tf"
   ]
  },
  {
   "cell_type": "code",
   "execution_count": 6,
   "metadata": {},
   "outputs": [],
   "source": [
    "model =tf.keras.models.load_model(\"artifacts/model_trainer/model.h5\")"
   ]
  },
  {
   "cell_type": "code",
   "execution_count": 7,
   "metadata": {},
   "outputs": [],
   "source": [
    "from dataclasses import dataclass\n",
    "from pathlib import Path\n",
    "\n",
    "@dataclass(frozen=True)\n",
    "class ModelEvaluationConfig:\n",
    "    root_dir: Path\n",
    "    test_data_path: Path\n",
    "    batch_size: int\n",
    "    model_path: Path\n",
    "    mlflow_uri: str\n",
    "    all_params: dict\n",
    "    image_width: int\n",
    "    image_height: int\n",
    "    "
   ]
  },
  {
   "cell_type": "code",
   "execution_count": 8,
   "metadata": {},
   "outputs": [],
   "source": [
    "from src.DogvsCatClassifier.constants import *\n",
    "from src.DogvsCatClassifier.utils.common import read_yaml, create_directories"
   ]
  },
  {
   "cell_type": "code",
   "execution_count": 9,
   "metadata": {},
   "outputs": [],
   "source": [
    "class ConfigurationManager:\n",
    "    def __init__(\n",
    "        self, \n",
    "        config_filepath = CONFIG_FILE_PATH,\n",
    "        params_filepath = PARAMS_FILE_PATH):\n",
    "        self.config = read_yaml(config_filepath)\n",
    "        self.params = read_yaml(params_filepath)\n",
    "        create_directories([self.config.artifacts_root])\n",
    "\n",
    "    \n",
    "    def get_model_evaluation_config(self) -> ModelEvaluationConfig:\n",
    "\n",
    "        config =self.config.model_evaluation\n",
    "        params =self.params.CNN\n",
    "\n",
    "        create_directories([config.root_dir])\n",
    "        eval_config = ModelEvaluationConfig(\n",
    "            root_dir=config.root_dir,\n",
    "            model_path='artifacts/model_trainer/model.h5',\n",
    "            mlflow_uri=\"https://dagshub.com/Rvaibhavv/DogVsCat-Identidier-full-implementation.mlflow\",\n",
    "            all_params=self.params,\n",
    "            test_data_path='artifacts/data_ingestion/test',\n",
    "            batch_size=params.batch_size,\n",
    "            image_width=params.image_width,\n",
    "            image_height=params.image_height,\n",
    "            \n",
    "            \n",
    "\n",
    "        )\n",
    "        return eval_config\n",
    "\n",
    "\n"
   ]
  },
  {
   "cell_type": "code",
   "execution_count": 10,
   "metadata": {},
   "outputs": [],
   "source": [
    "from tensorflow import keras"
   ]
  },
  {
   "cell_type": "code",
   "execution_count": 11,
   "metadata": {},
   "outputs": [],
   "source": [
    "class ModelEvaluation:\n",
    "    def __init__(self, config: ModelEvaluationConfig):\n",
    "        self.config = config\n",
    "    \n",
    "    def set_and_normalize(self):\n",
    "        validation_ds =keras.utils.image_dataset_from_directory(\n",
    "            directory = self.config.test_data_path,\n",
    "            labels='inferred',\n",
    "            label_mode='int',\n",
    "            batch_size=self.config.batch_size,\n",
    "            image_size=(self.config.image_width,self.config.image_height),\n",
    "\n",
    "        )\n",
    "        def process(image,label):\n",
    "            image = tf.cast(image/255. , tf.float32)\n",
    "            return image,label\n",
    "        \n",
    "        \n",
    "        validation_ds=validation_ds.map(process)\n",
    "\n",
    "        return  validation_ds\n",
    "    \n",
    "    def evaluate(self,validation_ds):\n",
    "        test_loss, test_accuracy = model.evaluate(validation_ds)\n",
    "        print('Test accuracy:', test_accuracy)\n",
    "        print('Test Loss',test_loss)\n"
   ]
  },
  {
   "cell_type": "code",
   "execution_count": 12,
   "metadata": {},
   "outputs": [
    {
     "name": "stdout",
     "output_type": "stream",
     "text": [
      "[2024-01-28 18:03:53,897: INFO: common: yaml file: config\\config.yaml loaded successfully]\n",
      "[2024-01-28 18:03:53,912: INFO: common: yaml file: params.yaml loaded successfully]\n",
      "[2024-01-28 18:03:53,912: INFO: common: created directory at: artifacts]\n",
      "[2024-01-28 18:03:53,912: INFO: common: created directory at: artifacts\\model_evaluation]\n",
      "Found 5000 files belonging to 2 classes.\n",
      "157/157 [==============================] - 27s 117ms/step - loss: 0.5802 - accuracy: 0.6986\n",
      "Test accuracy: 0.6985999941825867\n",
      "Test Loss 0.5801771283149719\n"
     ]
    }
   ],
   "source": [
    "try:\n",
    "    config = ConfigurationManager()\n",
    "    model_eval_config = config.get_model_evaluation_config()\n",
    "    model_evaluation=ModelEvaluation(model_eval_config)\n",
    "    validation_ds = model_evaluation.set_and_normalize()\n",
    "    model_evaluation.evaluate(validation_ds)\n",
    "\n",
    "except Exception as e:\n",
    "    raise e"
   ]
  }
 ],
 "metadata": {
  "kernelspec": {
   "display_name": "gpuenv",
   "language": "python",
   "name": "python3"
  },
  "language_info": {
   "codemirror_mode": {
    "name": "ipython",
    "version": 3
   },
   "file_extension": ".py",
   "mimetype": "text/x-python",
   "name": "python",
   "nbconvert_exporter": "python",
   "pygments_lexer": "ipython3",
   "version": "3.8.18"
  }
 },
 "nbformat": 4,
 "nbformat_minor": 2
}
