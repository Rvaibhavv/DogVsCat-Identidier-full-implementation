{
 "cells": [
  {
   "cell_type": "code",
   "execution_count": null,
   "metadata": {},
   "outputs": [],
   "source": [
    "import os\n",
    "%pwd\n",
    "os.chdir(\"../\")"
   ]
  },
  {
   "cell_type": "code",
   "execution_count": null,
   "metadata": {},
   "outputs": [],
   "source": [
    "%pwd"
   ]
  },
  {
   "cell_type": "code",
   "execution_count": null,
   "metadata": {},
   "outputs": [],
   "source": [
    "# MLFLOW_TRACKING_URI=https://dagshub.com/Rvaibhavv/DogVsCat-Identidier-full-implementation.mlflow \\\n",
    "# MLFLOW_TRACKING_USERNAME=Rvaibhavv \\\n",
    "# MLFLOW_TRACKING_PASSWORD=a37ad20e3c8a402cd86cae1238ec2ef1bed9ba0d \\\n",
    "\n",
    "# MLFLOW_TRACKING_URI=https://dagshub.com/Rvaibhavv/DogVsCat-Identidier-full-implementation.mlflow \\\n",
    "# MLFLOW_TRACKING_USERNAME=Rvaibhavv \\\n",
    "# MLFLOW_TRACKING_PASSWORD=a37ad20e3c8a402cd86cae1238ec2ef1bed9ba0d \\\n",
    "# python script.py\n",
    "# python script.py"
   ]
  },
  {
   "cell_type": "code",
   "execution_count": null,
   "metadata": {},
   "outputs": [],
   "source": [
    "os.environ[\"MLFLOW_TRACKING_URI\"]=\"https://dagshub.com/Rvaibhavv/DogVsCat-Identidier-full-implementation.mlflow\"\n",
    "os.environ[\"MLFLOW_TRACKING_USERNAME\"]=\"Rvaibhavv\"\n",
    "os.environ[\"MLFLOW_TRACKING_PASSWORD\"]=\"a37ad20e3c8a402cd86cae1238ec2ef1bed9ba0d\"\n",
    "\n",
    "# "
   ]
  },
  {
   "cell_type": "code",
   "execution_count": null,
   "metadata": {},
   "outputs": [],
   "source": [
    "import tensorflow as tf"
   ]
  },
  {
   "cell_type": "code",
   "execution_count": null,
   "metadata": {},
   "outputs": [],
   "source": [
    "model =tf.keras.models.load_model(\"artifacts/model_trainer/model.h5\")"
   ]
  },
  {
   "cell_type": "code",
   "execution_count": null,
   "metadata": {},
   "outputs": [],
   "source": []
  },
  {
   "cell_type": "code",
   "execution_count": null,
   "metadata": {},
   "outputs": [],
   "source": [
    "from dataclasses import dataclass\n",
    "from pathlib import Path\n",
    "\n",
    "@dataclass(frozen=True)\n",
    "class ModelEvaluationConfig:\n",
    "    root_dir: Path\n",
    "    test_data_path: Path\n",
    "    batch_size: int\n",
    "    model_path: Path\n",
    "    mlflow_uri: str\n",
    "    all_params: dict\n",
    "    image_width: int\n",
    "    image_height: int\n",
    "    metric_file_name: Path\n",
    "    model_path: Path\n",
    "    "
   ]
  },
  {
   "cell_type": "code",
   "execution_count": null,
   "metadata": {},
   "outputs": [],
   "source": [
    "from src.DogvsCatClassifier.constants import *\n",
    "from src.DogvsCatClassifier.utils.common import read_yaml, create_directories,save_json"
   ]
  },
  {
   "cell_type": "code",
   "execution_count": null,
   "metadata": {},
   "outputs": [],
   "source": [
    "class ConfigurationManager:\n",
    "    def __init__(\n",
    "        self, \n",
    "        config_filepath = CONFIG_FILE_PATH,\n",
    "        params_filepath = PARAMS_FILE_PATH):\n",
    "        self.config = read_yaml(config_filepath)\n",
    "        self.params = read_yaml(params_filepath)\n",
    "        create_directories([self.config.artifacts_root])\n",
    "\n",
    "    \n",
    "    def get_model_evaluation_config(self) -> ModelEvaluationConfig:\n",
    "\n",
    "        config =self.config.model_evaluation\n",
    "        params =self.params\n",
    "\n",
    "        create_directories([config.root_dir])\n",
    "        eval_config = ModelEvaluationConfig(\n",
    "            root_dir=config.root_dir,\n",
    "            \n",
    "            mlflow_uri=config.mlflow_uri,\n",
    "            all_params=params,\n",
    "            test_data_path=config.test_data_path,\n",
    "            batch_size=params.batch_size,\n",
    "            image_width=params.image_width,\n",
    "            image_height=params.image_height,\n",
    "            metric_file_name=config.metric_file_name,\n",
    "            model_path= config.model_path\n",
    "            \n",
    "            \n",
    "            \n",
    "\n",
    "        )\n",
    "        return eval_config\n",
    "\n",
    "\n"
   ]
  },
  {
   "cell_type": "code",
   "execution_count": null,
   "metadata": {},
   "outputs": [],
   "source": [
    "from tensorflow import keras\n",
    "import mlflow\n",
    "import mlflow.keras\n",
    "from urllib.parse import urlparse"
   ]
  },
  {
   "cell_type": "code",
   "execution_count": null,
   "metadata": {},
   "outputs": [],
   "source": [
    "class ModelEvaluation:\n",
    "    def __init__(self, config: ModelEvaluationConfig):\n",
    "        self.config = config\n",
    "    \n",
    "    def set_and_test(self):\n",
    "        validation_ds =keras.utils.image_dataset_from_directory(\n",
    "            directory = self.config.test_data_path,\n",
    "            labels='inferred',\n",
    "            label_mode='int',\n",
    "            batch_size=self.config.batch_size,\n",
    "            image_size=(self.config.image_width,self.config.image_height),\n",
    "\n",
    "        )\n",
    "        def process(image,label):\n",
    "            image = tf.cast(image/255. , tf.float32)\n",
    "            return image,label\n",
    "        \n",
    "        \n",
    "        validation_ds=validation_ds.map(process)\n",
    "\n",
    "        return  validation_ds\n",
    "    \n",
    "    def evaluate(self,validation_ds):\n",
    "        test_loss, test_accuracy = model.evaluate(validation_ds)\n",
    "        print('Test accuracy:', test_accuracy)\n",
    "        print('Test Loss',test_loss)\n",
    "        score = {\"loss\": test_loss, \"accuracy\": test_accuracy}\n",
    "        save_json(path=Path(self.config.metric_file_name), data=score)\n",
    "        return test_loss,test_accuracy\n",
    "\n",
    "    \n",
    "\n",
    "    def mlflowlogin(self,loss,accuracy):\n",
    "        print(1)\n",
    "        model =self.config.model_path\n",
    "        model =tf.keras.models.load_model(model)\n",
    "        print(2)\n",
    "\n",
    "        mlflow.set_registry_uri(self.config.mlflow_uri)\n",
    "        tracking_url_type_store = urlparse(mlflow.get_tracking_uri()).scheme\n",
    "        print(3)\n",
    "        with mlflow.start_run():\n",
    "            print(4)\n",
    "            \n",
    "            mlflow.log_params(self.config.batch_size)\n",
    "            print(5)\n",
    "            mlflow.log_metrics(\n",
    "                {\"loss\": loss, \"accuracy\": accuracy}\n",
    "            )\n",
    "            print(6)\n",
    "            \n",
    "            if tracking_url_type_store != \"file\":\n",
    "\n",
    "                \n",
    "                mlflow.keras.log_model(model, \"model\", registered_model_name=\"catvsdogpred\")\n",
    "            else:\n",
    "                mlflow.keras.log_model(model, \"model\")\n",
    "            print(7)\n",
    "\n"
   ]
  },
  {
   "cell_type": "code",
   "execution_count": null,
   "metadata": {},
   "outputs": [],
   "source": [
    "try:\n",
    "    config = ConfigurationManager()\n",
    "    model_eval_config = config.get_model_evaluation_config()\n",
    "    model_evaluation=ModelEvaluation(model_eval_config)\n",
    "    validation_ds = model_evaluation.set_and_test()\n",
    "    loss,accuracy = model_evaluation.evaluate(validation_ds)\n",
    "    model_evaluation.mlflowlogin(loss,accuracy)\n",
    "\n",
    "\n",
    "except Exception as e:\n",
    "    raise e"
   ]
  }
 ],
 "metadata": {
  "kernelspec": {
   "display_name": "gpuenv",
   "language": "python",
   "name": "python3"
  },
  "language_info": {
   "codemirror_mode": {
    "name": "ipython",
    "version": 3
   },
   "file_extension": ".py",
   "mimetype": "text/x-python",
   "name": "python",
   "nbconvert_exporter": "python",
   "pygments_lexer": "ipython3",
   "version": "3.8.18"
  }
 },
 "nbformat": 4,
 "nbformat_minor": 2
}
