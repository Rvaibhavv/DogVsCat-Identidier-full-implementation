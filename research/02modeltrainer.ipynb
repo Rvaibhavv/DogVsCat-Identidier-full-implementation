{
 "cells": [
  {
   "cell_type": "code",
   "execution_count": 1,
   "metadata": {},
   "outputs": [],
   "source": [
    "import os\n",
    "%pwd\n",
    "os.chdir(\"../\")"
   ]
  },
  {
   "cell_type": "code",
   "execution_count": 2,
   "metadata": {},
   "outputs": [
    {
     "data": {
      "text/plain": [
       "'c:\\\\Users\\\\rvaib\\\\OneDrive\\\\Desktop\\\\DogVsCat-Identidier-full-implementation'"
      ]
     },
     "execution_count": 2,
     "metadata": {},
     "output_type": "execute_result"
    }
   ],
   "source": [
    "%pwd\n"
   ]
  },
  {
   "cell_type": "code",
   "execution_count": 3,
   "metadata": {},
   "outputs": [],
   "source": [
    "from dataclasses import dataclass\n",
    "from pathlib import Path\n",
    "\n",
    "@dataclass\n",
    "class ModelTrainerConfig:\n",
    "    root_dir: Path\n",
    "    train_data_path: Path\n",
    "    test_data_path: Path\n",
    "    model_name: str\n",
    "    batch_size: int\n",
    "    image_width: int\n",
    "    image_height: int\n"
   ]
  },
  {
   "cell_type": "code",
   "execution_count": 4,
   "metadata": {},
   "outputs": [],
   "source": [
    "from src.DogvsCatClassifier.constants import *\n",
    "from src.DogvsCatClassifier.utils.common import read_yaml, create_directories"
   ]
  },
  {
   "cell_type": "code",
   "execution_count": 5,
   "metadata": {},
   "outputs": [],
   "source": [
    "class ConfigurationManager:\n",
    "    def __init__(\n",
    "         self,\n",
    "         config_filepath = CONFIG_FILE_PATH,\n",
    "         params_filepath = PARAMS_FILE_PATH):\n",
    "\n",
    "         self.config =  read_yaml(config_filepath)\n",
    "         self.params =  read_yaml(params_filepath)   \n",
    "         create_directories([self.config.artifacts_root])\n",
    "\n",
    "    def get_model_trainer_config(self)-> ModelTrainerConfig:\n",
    "         config =self.config.model_trainer\n",
    "         params =self.params.CNN\n",
    "\n",
    "         create_directories([config.root_dir])\n",
    "\n",
    "         model_trainer_config = ModelTrainerConfig(\n",
    "               root_dir=config.root_dir,\n",
    "               train_data_path=config.train_data_path,\n",
    "               test_data_path=config.test_data_path,\n",
    "               model_name=config.model_name,\n",
    "               batch_size=params.batch_size,\n",
    "               image_width=params.image_width,\n",
    "               image_height=params.image_height\n",
    "          )\n",
    "\n",
    "         return model_trainer_config"
   ]
  },
  {
   "cell_type": "code",
   "execution_count": 12,
   "metadata": {},
   "outputs": [],
   "source": [
    "import cv2\n",
    "import tensorflow as tf\n",
    "from tensorflow import keras\n",
    "from keras import models,layers\n",
    "from keras.layers import Dense,Conv2D,MaxPool2D,Flatten,BatchNormalization"
   ]
  },
  {
   "cell_type": "code",
   "execution_count": 7,
   "metadata": {},
   "outputs": [],
   "source": [
    "class ModelTrainer:\n",
    "    def __init__(self,config:ModelTrainerConfig):\n",
    "        self.config = config\n",
    "\n",
    "    def train_test(self):\n",
    "        train_ds = keras.utils.image_dataset_from_directory(\n",
    "            directory = self.config.train_data_path,\n",
    "            labels='inferred',\n",
    "            label_mode='int',\n",
    "            batch_size=self.config.batch_size,\n",
    "            image_size=(self.config.image_width,self.config.image_height),\n",
    "            \n",
    "            \n",
    "        )\n",
    "\n",
    "        validation_ds =keras.utils.image_dataset_from_directory(\n",
    "            directory = self.config.test_data_path,\n",
    "            labels='inferred',\n",
    "            label_mode='int',\n",
    "            batch_size=self.config.batch_size,\n",
    "            image_size=(self.config.image_width,self.config.image_height),\n",
    "\n",
    "        )\n",
    "        \n",
    "        \n",
    "\n",
    "        def process(image,label):\n",
    "            image = tf.cast(image/255. , tf.float32)\n",
    "            return image,label\n",
    "        \n",
    "        train_ds = train_ds.map(process)\n",
    "        validation_ds=validation_ds.map(process)\n",
    "        \n",
    "        \n",
    "        def model_design()\n",
    "    \n",
    "    \n",
    "\n",
    "    \n",
    "\n",
    "        \n",
    "\n"
   ]
  },
  {
   "cell_type": "code",
   "execution_count": 8,
   "metadata": {},
   "outputs": [
    {
     "name": "stdout",
     "output_type": "stream",
     "text": [
      "[2024-01-28 13:03:11,358: INFO: common: yaml file: config\\config.yaml loaded successfully]\n",
      "[2024-01-28 13:03:11,368: INFO: common: yaml file: params.yaml loaded successfully]\n",
      "[2024-01-28 13:03:11,368: INFO: common: created directory at: artifacts]\n",
      "[2024-01-28 13:03:11,374: INFO: common: created directory at: artifacts\\model_trainer]\n",
      "Found 20000 files belonging to 2 classes.\n",
      "Found 5000 files belonging to 2 classes.\n"
     ]
    }
   ],
   "source": [
    "try:\n",
    "    config =ConfigurationManager()\n",
    "    model_trainer_config=config.get_model_trainer_config()\n",
    "    model_trainer=ModelTrainer(config=model_trainer_config)\n",
    "    train_ds,test_ds=model_trainer.train_test()\n",
    "    \n",
    "except Exception as e:\n",
    "    raise e"
   ]
  },
  {
   "cell_type": "code",
   "execution_count": null,
   "metadata": {},
   "outputs": [],
   "source": []
  }
 ],
 "metadata": {
  "kernelspec": {
   "display_name": "gpuenv",
   "language": "python",
   "name": "python3"
  },
  "language_info": {
   "codemirror_mode": {
    "name": "ipython",
    "version": 3
   },
   "file_extension": ".py",
   "mimetype": "text/x-python",
   "name": "python",
   "nbconvert_exporter": "python",
   "pygments_lexer": "ipython3",
   "version": "3.8.18"
  }
 },
 "nbformat": 4,
 "nbformat_minor": 2
}
